{
 "cells": [
  {
   "cell_type": "code",
   "execution_count": 1,
   "metadata": {},
   "outputs": [],
   "source": [
    "#making sandwich with given items"
   ]
  },
  {
   "cell_type": "code",
   "execution_count": 6,
   "metadata": {},
   "outputs": [],
   "source": [
    "def make_sandwich(item1,item2,item3):\n",
    "    \"Make a sandwich with given items\"\n",
    "    print('Sandwich is preparing for you')\n",
    "    print(f\"Adding {item1} to ur sandwich\")\n",
    "    print(f\"Adding {item2} to ur sandwich\")\n",
    "    print(f\"Adding {item3} to ur sandwich\")\n",
    "    print('Your sandwich is prepared \\n')"
   ]
  },
  {
   "cell_type": "code",
   "execution_count": 7,
   "metadata": {},
   "outputs": [
    {
     "name": "stdout",
     "output_type": "stream",
     "text": [
      "Sandwich is preparing for you\n",
      "Adding cheese to ur sandwich\n",
      "Adding salt to ur sandwich\n",
      "Adding chicken to ur sandwich\n",
      "Your sandwich is prepared \n",
      "\n",
      "Sandwich is preparing for you\n",
      "Adding butter to ur sandwich\n",
      "Adding almond to ur sandwich\n",
      "Adding honey to ur sandwich\n",
      "Your sandwich is prepared \n",
      "\n",
      "Sandwich is preparing for you\n",
      "Adding roast_almond to ur sandwich\n",
      "Adding egg to ur sandwich\n",
      "Adding onion to ur sandwich\n",
      "Your sandwich is prepared \n",
      "\n"
     ]
    }
   ],
   "source": [
    "make_sandwich('cheese','salt','chicken')\n",
    "make_sandwich('butter','almond','honey')\n",
    "make_sandwich('roast_almond','egg','onion')"
   ]
  },
  {
   "cell_type": "code",
   "execution_count": 8,
   "metadata": {},
   "outputs": [],
   "source": [
    "#alternative method"
   ]
  },
  {
   "cell_type": "code",
   "execution_count": 9,
   "metadata": {},
   "outputs": [],
   "source": [
    "def make_sandwich(*items):\n",
    "    \"Make a sandwich with given items\"\n",
    "    print('Sandwich is preparing for you')\n",
    "    for item in items:\n",
    "        print(f\"Adding {item} to ur sandwich\")\n",
    "    print('Your sandwich is prepared \\n')"
   ]
  },
  {
   "cell_type": "code",
   "execution_count": 10,
   "metadata": {},
   "outputs": [
    {
     "name": "stdout",
     "output_type": "stream",
     "text": [
      "Sandwich is preparing for you\n",
      "Adding cheese to ur sandwich\n",
      "Adding salt to ur sandwich\n",
      "Adding chicken to ur sandwich\n",
      "Your sandwich is prepared \n",
      "\n",
      "Sandwich is preparing for you\n",
      "Adding butter to ur sandwich\n",
      "Adding almond to ur sandwich\n",
      "Adding honey to ur sandwich\n",
      "Your sandwich is prepared \n",
      "\n",
      "Sandwich is preparing for you\n",
      "Adding roast_almond to ur sandwich\n",
      "Adding egg to ur sandwich\n",
      "Adding onion to ur sandwich\n",
      "Your sandwich is prepared \n",
      "\n"
     ]
    }
   ],
   "source": [
    "make_sandwich('cheese','salt','chicken')\n",
    "make_sandwich('butter','almond','honey')\n",
    "make_sandwich('roast_almond','egg','onion')"
   ]
  },
  {
   "cell_type": "code",
   "execution_count": 11,
   "metadata": {},
   "outputs": [],
   "source": [
    "#making a dictionary representing a car"
   ]
  },
  {
   "cell_type": "code",
   "execution_count": 29,
   "metadata": {},
   "outputs": [],
   "source": [
    "def make_car(manufacturer,model,**options):\n",
    "    \"\"\"make a dictionary representing a car\"\"\"\n",
    "    \n",
    "    car_dict={\n",
    "        'manufacturer': manufacturer.title(),\n",
    "        'model': model.title(),\n",
    "         }\n",
    "    for option,value in options.items():\n",
    "        car_dict[option]=value\n",
    "        \n",
    "    return car_dict"
   ]
  },
  {
   "cell_type": "code",
   "execution_count": 31,
   "metadata": {},
   "outputs": [
    {
     "name": "stdout",
     "output_type": "stream",
     "text": [
      "{'manufacturer': 'Subaru', 'model': 'Outbreak', 'color': 'blue', 'tow_package': True}\n",
      "{'manufacturer': 'Honda', 'model': 'City', 'color': 'black', 'year': 2000, 'headlights': 'popup'}\n"
     ]
    }
   ],
   "source": [
    "my_outback = make_car('subaru','outbreak',color='blue',tow_package=True)\n",
    "print(my_outback)\n",
    "\n",
    "my_accord = make_car('honda','city',color='black',year=2000,headlights='popup')\n",
    "print(my_accord)"
   ]
  },
  {
   "cell_type": "code",
   "execution_count": 32,
   "metadata": {},
   "outputs": [],
   "source": [
    "#exceptional handling"
   ]
  },
  {
   "cell_type": "code",
   "execution_count": 33,
   "metadata": {},
   "outputs": [
    {
     "name": "stdout",
     "output_type": "stream",
     "text": [
      "Give me a number:  10\n",
      "Give me another number:  23\n",
      "The sum of x and y is 33\n"
     ]
    }
   ],
   "source": [
    "try:\n",
    "    x = input(\"Give me a number:  \")\n",
    "    x = int(x)\n",
    "    \n",
    "    y = input(\"Give me another number:  \")\n",
    "    y = int(y)\n",
    "    \n",
    "except ValueError:\n",
    "    print('sorry, please enter the number')\n",
    "    \n",
    "else:\n",
    "    \n",
    "    sum = x + y\n",
    "    \n",
    "    print(f\"The sum of x and y is {sum}\")\n",
    "    "
   ]
  },
  {
   "cell_type": "code",
   "execution_count": 34,
   "metadata": {},
   "outputs": [
    {
     "name": "stdout",
     "output_type": "stream",
     "text": [
      "Give me a number:  34\n",
      "Give me another number:  hari\n",
      "sorry, please enter the number\n"
     ]
    }
   ],
   "source": [
    "try:\n",
    "    x = input(\"Give me a number:  \")\n",
    "    x = int(x)\n",
    "    \n",
    "    y = input(\"Give me another number:  \")\n",
    "    y = int(y)\n",
    "    \n",
    "except ValueError:\n",
    "    print('sorry, please enter the number')\n",
    "    \n",
    "else:\n",
    "    \n",
    "    sum = x + y\n",
    "    \n",
    "    print(f\"The sum of x and y is {sum}\")\n",
    "    "
   ]
  },
  {
   "cell_type": "code",
   "execution_count": null,
   "metadata": {},
   "outputs": [],
   "source": []
  }
 ],
 "metadata": {
  "kernelspec": {
   "display_name": "Python 3",
   "language": "python",
   "name": "python3"
  },
  "language_info": {
   "codemirror_mode": {
    "name": "ipython",
    "version": 3
   },
   "file_extension": ".py",
   "mimetype": "text/x-python",
   "name": "python",
   "nbconvert_exporter": "python",
   "pygments_lexer": "ipython3",
   "version": "3.7.6"
  }
 },
 "nbformat": 4,
 "nbformat_minor": 4
}
